{
 "cells": [
  {
   "cell_type": "code",
   "id": "initial_id",
   "metadata": {
    "collapsed": true,
    "ExecuteTime": {
     "end_time": "2025-04-09T08:26:44.126366Z",
     "start_time": "2025-04-09T08:26:43.757011Z"
    }
   },
   "source": "import qlib\n",
   "outputs": [],
   "execution_count": 1
  },
  {
   "metadata": {
    "ExecuteTime": {
     "end_time": "2025-04-09T08:42:13.436130Z",
     "start_time": "2025-04-09T08:42:13.430491Z"
    }
   },
   "cell_type": "code",
   "source": [
    "provider_uri = \"/Users/dabai/liepin/study/llm/Financial_QA/data/qlib_data/zh_qlib\"\n",
    "config = {\n",
    "    \"qlib_init\": {\n",
    "        \"provider_uri\": provider_uri,\n",
    "        \"region\": \"cn\",\n",
    "        \"exp_manager\": {\n",
    "            \"class\": \"MLflowExpManager\",\n",
    "            \"module_path\": \"qlib.workflow.expm\",\n",
    "            \"kwargs\": {\n",
    "                \"uri\": \"http://127.0.0.1:5001\",\n",
    "                \"default_exp_name\": \"qlib_experiment\",\n",
    "            },\n",
    "        },\n",
    "    },\n",
    "}"
   ],
   "id": "948215781ec99862",
   "outputs": [],
   "execution_count": 9
  },
  {
   "metadata": {
    "ExecuteTime": {
     "end_time": "2025-04-09T08:42:23.557150Z",
     "start_time": "2025-04-09T08:42:23.550791Z"
    }
   },
   "cell_type": "code",
   "source": [
    "qlib.init(\n",
    "    provider_uri=config[\"qlib_init\"][\"provider_uri\"],\n",
    "    region=config[\"qlib_init\"][\"region\"],\n",
    "    exp_manager=config[\"qlib_init\"][\"exp_manager\"],\n",
    ")\n"
   ],
   "id": "68519a143205406",
   "outputs": [
    {
     "name": "stderr",
     "output_type": "stream",
     "text": [
      "[57159:MainThread](2025-04-09 16:42:23,553) INFO - qlib.Initialization - [config.py:420] - default_conf: client.\n",
      "[57159:MainThread](2025-04-09 16:42:23,555) INFO - qlib.Initialization - [__init__.py:74] - qlib successfully initialized based on client settings.\n",
      "[57159:MainThread](2025-04-09 16:42:23,555) INFO - qlib.Initialization - [__init__.py:76] - data_path={'__DEFAULT_FREQ': PosixPath('/Users/dabai/liepin/study/llm/Financial_QA/data/qlib_data/zh_qlib')}\n"
     ]
    }
   ],
   "execution_count": 11
  },
  {
   "metadata": {},
   "cell_type": "code",
   "outputs": [],
   "execution_count": null,
   "source": [
    "# 初始化 dataloader\n",
    "{'$close':'close','$high':'high'}"
   ],
   "id": "7ac826b7e141a890"
  },
  {
   "metadata": {
    "ExecuteTime": {
     "end_time": "2025-04-09T09:06:28.095116Z",
     "start_time": "2025-04-09T09:06:28.084744Z"
    }
   },
   "cell_type": "code",
   "source": [
    "# 导入QlibDataLoader\n",
    "from qlib.data.dataset.loader import QlibDataLoader\n",
    "# 加载原始特征，比如收盘价、最高价, QlibDataLoader config 参数可以是一个或多个特征名称，也可以是一个列表\n",
    "qdl = QlibDataLoader(config=['Ref($close, -2)', 'Ref($close, -1)', '$close', '$high', \"Ref($close, -2)/Ref($close, -1) - 1\"])  # list[str]\n",
    "# qdl = QlibDataLoader(config=(['$close', '$high'], ['close', 'high']))  # tuple[list, list], 表达式和别名的映射\n",
    "# qdl = QlibDataLoader(config= {'feature1':(['$close', '$open'],['close', 'open']),'feature2':['$high']} )  # dict[str, list/tuple], 分组的特征，key 为分组名称\n",
    "# qdl = QlibDataLoader(config= {'feature1':['$close'],'feature2':['$high']} )  # dict[str, list], 分组的特征，key 为分组名称\n",
    "df_temp = qdl.load(instruments=['SH000001'], start_time='20190101', end_time='20191231') # 可以通过freq参数设置周期，默认freq='day'\n",
    "print(df_temp.columns)\n",
    "df_temp.head(20)"
   ],
   "id": "c99b76e26dd947fd",
   "outputs": [
    {
     "name": "stdout",
     "output_type": "stream",
     "text": [
      "Index(['Ref($close, -2)', 'Ref($close, -1)', '$close', '$high',\n",
      "       'Ref($close, -2)/Ref($close, -1) - 1'],\n",
      "      dtype='object')\n"
     ]
    },
    {
     "data": {
      "text/plain": [
       "                       Ref($close, -2)  Ref($close, -1)       $close  \\\n",
       "datetime   instrument                                                  \n",
       "2019-01-02 SH000001        2514.867920      2464.362061  2465.291016   \n",
       "2019-01-03 SH000001        2533.087891      2514.867920  2464.362061   \n",
       "2019-01-04 SH000001        2526.461914      2533.087891  2514.867920   \n",
       "2019-01-07 SH000001        2544.343994      2526.461914  2533.087891   \n",
       "2019-01-08 SH000001        2535.097900      2544.343994  2526.461914   \n",
       "2019-01-09 SH000001        2553.831055      2535.097900  2544.343994   \n",
       "2019-01-10 SH000001        2535.764893      2553.831055  2535.097900   \n",
       "2019-01-11 SH000001        2570.343994      2535.764893  2553.831055   \n",
       "2019-01-14 SH000001        2570.422119      2570.343994  2535.764893   \n",
       "2019-01-15 SH000001        2559.636963      2570.422119  2570.343994   \n",
       "2019-01-16 SH000001        2596.004883      2559.636963  2570.422119   \n",
       "2019-01-17 SH000001        2610.509033      2596.004883  2559.636963   \n",
       "2019-01-18 SH000001        2579.704102      2610.509033  2596.004883   \n",
       "2019-01-21 SH000001        2581.003906      2579.704102  2610.509033   \n",
       "2019-01-22 SH000001        2591.693115      2581.003906  2579.704102   \n",
       "2019-01-23 SH000001        2601.722900      2591.693115  2581.003906   \n",
       "2019-01-24 SH000001        2596.976074      2601.722900  2591.693115   \n",
       "2019-01-25 SH000001        2594.252930      2596.976074  2601.722900   \n",
       "2019-01-28 SH000001        2575.574951      2594.252930  2596.976074   \n",
       "2019-01-29 SH000001        2584.572021      2575.574951  2594.252930   \n",
       "\n",
       "                             $high  Ref($close, -2)/Ref($close, -1) - 1  \n",
       "datetime   instrument                                                    \n",
       "2019-01-02 SH000001    2500.278076                             0.020494  \n",
       "2019-01-03 SH000001    2488.479004                             0.007245  \n",
       "2019-01-04 SH000001    2515.315918                            -0.002616  \n",
       "2019-01-07 SH000001    2536.977051                             0.007078  \n",
       "2019-01-08 SH000001    2531.344971                            -0.003634  \n",
       "2019-01-09 SH000001    2574.406982                             0.007390  \n",
       "2019-01-10 SH000001    2551.824951                            -0.007074  \n",
       "2019-01-11 SH000001    2554.785889                             0.013637  \n",
       "2019-01-14 SH000001    2556.292969                             0.000030  \n",
       "2019-01-15 SH000001    2571.500977                            -0.004196  \n",
       "2019-01-16 SH000001    2574.236084                             0.014208  \n",
       "2019-01-17 SH000001    2582.555908                             0.005587  \n",
       "2019-01-18 SH000001    2598.883057                            -0.011800  \n",
       "2019-01-21 SH000001    2618.979980                             0.000504  \n",
       "2019-01-22 SH000001    2609.642090                             0.004141  \n",
       "2019-01-23 SH000001    2589.511963                             0.003870  \n",
       "2019-01-24 SH000001    2597.289062                            -0.001824  \n",
       "2019-01-25 SH000001    2617.001953                            -0.001049  \n",
       "2019-01-28 SH000001    2630.318115                            -0.007200  \n",
       "2019-01-29 SH000001    2601.735107                             0.003493  "
      ],
      "text/html": [
       "<div>\n",
       "<style scoped>\n",
       "    .dataframe tbody tr th:only-of-type {\n",
       "        vertical-align: middle;\n",
       "    }\n",
       "\n",
       "    .dataframe tbody tr th {\n",
       "        vertical-align: top;\n",
       "    }\n",
       "\n",
       "    .dataframe thead th {\n",
       "        text-align: right;\n",
       "    }\n",
       "</style>\n",
       "<table border=\"1\" class=\"dataframe\">\n",
       "  <thead>\n",
       "    <tr style=\"text-align: right;\">\n",
       "      <th></th>\n",
       "      <th></th>\n",
       "      <th>Ref($close, -2)</th>\n",
       "      <th>Ref($close, -1)</th>\n",
       "      <th>$close</th>\n",
       "      <th>$high</th>\n",
       "      <th>Ref($close, -2)/Ref($close, -1) - 1</th>\n",
       "    </tr>\n",
       "    <tr>\n",
       "      <th>datetime</th>\n",
       "      <th>instrument</th>\n",
       "      <th></th>\n",
       "      <th></th>\n",
       "      <th></th>\n",
       "      <th></th>\n",
       "      <th></th>\n",
       "    </tr>\n",
       "  </thead>\n",
       "  <tbody>\n",
       "    <tr>\n",
       "      <th>2019-01-02</th>\n",
       "      <th>SH000001</th>\n",
       "      <td>2514.867920</td>\n",
       "      <td>2464.362061</td>\n",
       "      <td>2465.291016</td>\n",
       "      <td>2500.278076</td>\n",
       "      <td>0.020494</td>\n",
       "    </tr>\n",
       "    <tr>\n",
       "      <th>2019-01-03</th>\n",
       "      <th>SH000001</th>\n",
       "      <td>2533.087891</td>\n",
       "      <td>2514.867920</td>\n",
       "      <td>2464.362061</td>\n",
       "      <td>2488.479004</td>\n",
       "      <td>0.007245</td>\n",
       "    </tr>\n",
       "    <tr>\n",
       "      <th>2019-01-04</th>\n",
       "      <th>SH000001</th>\n",
       "      <td>2526.461914</td>\n",
       "      <td>2533.087891</td>\n",
       "      <td>2514.867920</td>\n",
       "      <td>2515.315918</td>\n",
       "      <td>-0.002616</td>\n",
       "    </tr>\n",
       "    <tr>\n",
       "      <th>2019-01-07</th>\n",
       "      <th>SH000001</th>\n",
       "      <td>2544.343994</td>\n",
       "      <td>2526.461914</td>\n",
       "      <td>2533.087891</td>\n",
       "      <td>2536.977051</td>\n",
       "      <td>0.007078</td>\n",
       "    </tr>\n",
       "    <tr>\n",
       "      <th>2019-01-08</th>\n",
       "      <th>SH000001</th>\n",
       "      <td>2535.097900</td>\n",
       "      <td>2544.343994</td>\n",
       "      <td>2526.461914</td>\n",
       "      <td>2531.344971</td>\n",
       "      <td>-0.003634</td>\n",
       "    </tr>\n",
       "    <tr>\n",
       "      <th>2019-01-09</th>\n",
       "      <th>SH000001</th>\n",
       "      <td>2553.831055</td>\n",
       "      <td>2535.097900</td>\n",
       "      <td>2544.343994</td>\n",
       "      <td>2574.406982</td>\n",
       "      <td>0.007390</td>\n",
       "    </tr>\n",
       "    <tr>\n",
       "      <th>2019-01-10</th>\n",
       "      <th>SH000001</th>\n",
       "      <td>2535.764893</td>\n",
       "      <td>2553.831055</td>\n",
       "      <td>2535.097900</td>\n",
       "      <td>2551.824951</td>\n",
       "      <td>-0.007074</td>\n",
       "    </tr>\n",
       "    <tr>\n",
       "      <th>2019-01-11</th>\n",
       "      <th>SH000001</th>\n",
       "      <td>2570.343994</td>\n",
       "      <td>2535.764893</td>\n",
       "      <td>2553.831055</td>\n",
       "      <td>2554.785889</td>\n",
       "      <td>0.013637</td>\n",
       "    </tr>\n",
       "    <tr>\n",
       "      <th>2019-01-14</th>\n",
       "      <th>SH000001</th>\n",
       "      <td>2570.422119</td>\n",
       "      <td>2570.343994</td>\n",
       "      <td>2535.764893</td>\n",
       "      <td>2556.292969</td>\n",
       "      <td>0.000030</td>\n",
       "    </tr>\n",
       "    <tr>\n",
       "      <th>2019-01-15</th>\n",
       "      <th>SH000001</th>\n",
       "      <td>2559.636963</td>\n",
       "      <td>2570.422119</td>\n",
       "      <td>2570.343994</td>\n",
       "      <td>2571.500977</td>\n",
       "      <td>-0.004196</td>\n",
       "    </tr>\n",
       "    <tr>\n",
       "      <th>2019-01-16</th>\n",
       "      <th>SH000001</th>\n",
       "      <td>2596.004883</td>\n",
       "      <td>2559.636963</td>\n",
       "      <td>2570.422119</td>\n",
       "      <td>2574.236084</td>\n",
       "      <td>0.014208</td>\n",
       "    </tr>\n",
       "    <tr>\n",
       "      <th>2019-01-17</th>\n",
       "      <th>SH000001</th>\n",
       "      <td>2610.509033</td>\n",
       "      <td>2596.004883</td>\n",
       "      <td>2559.636963</td>\n",
       "      <td>2582.555908</td>\n",
       "      <td>0.005587</td>\n",
       "    </tr>\n",
       "    <tr>\n",
       "      <th>2019-01-18</th>\n",
       "      <th>SH000001</th>\n",
       "      <td>2579.704102</td>\n",
       "      <td>2610.509033</td>\n",
       "      <td>2596.004883</td>\n",
       "      <td>2598.883057</td>\n",
       "      <td>-0.011800</td>\n",
       "    </tr>\n",
       "    <tr>\n",
       "      <th>2019-01-21</th>\n",
       "      <th>SH000001</th>\n",
       "      <td>2581.003906</td>\n",
       "      <td>2579.704102</td>\n",
       "      <td>2610.509033</td>\n",
       "      <td>2618.979980</td>\n",
       "      <td>0.000504</td>\n",
       "    </tr>\n",
       "    <tr>\n",
       "      <th>2019-01-22</th>\n",
       "      <th>SH000001</th>\n",
       "      <td>2591.693115</td>\n",
       "      <td>2581.003906</td>\n",
       "      <td>2579.704102</td>\n",
       "      <td>2609.642090</td>\n",
       "      <td>0.004141</td>\n",
       "    </tr>\n",
       "    <tr>\n",
       "      <th>2019-01-23</th>\n",
       "      <th>SH000001</th>\n",
       "      <td>2601.722900</td>\n",
       "      <td>2591.693115</td>\n",
       "      <td>2581.003906</td>\n",
       "      <td>2589.511963</td>\n",
       "      <td>0.003870</td>\n",
       "    </tr>\n",
       "    <tr>\n",
       "      <th>2019-01-24</th>\n",
       "      <th>SH000001</th>\n",
       "      <td>2596.976074</td>\n",
       "      <td>2601.722900</td>\n",
       "      <td>2591.693115</td>\n",
       "      <td>2597.289062</td>\n",
       "      <td>-0.001824</td>\n",
       "    </tr>\n",
       "    <tr>\n",
       "      <th>2019-01-25</th>\n",
       "      <th>SH000001</th>\n",
       "      <td>2594.252930</td>\n",
       "      <td>2596.976074</td>\n",
       "      <td>2601.722900</td>\n",
       "      <td>2617.001953</td>\n",
       "      <td>-0.001049</td>\n",
       "    </tr>\n",
       "    <tr>\n",
       "      <th>2019-01-28</th>\n",
       "      <th>SH000001</th>\n",
       "      <td>2575.574951</td>\n",
       "      <td>2594.252930</td>\n",
       "      <td>2596.976074</td>\n",
       "      <td>2630.318115</td>\n",
       "      <td>-0.007200</td>\n",
       "    </tr>\n",
       "    <tr>\n",
       "      <th>2019-01-29</th>\n",
       "      <th>SH000001</th>\n",
       "      <td>2584.572021</td>\n",
       "      <td>2575.574951</td>\n",
       "      <td>2594.252930</td>\n",
       "      <td>2601.735107</td>\n",
       "      <td>0.003493</td>\n",
       "    </tr>\n",
       "  </tbody>\n",
       "</table>\n",
       "</div>"
      ]
     },
     "execution_count": 27,
     "metadata": {},
     "output_type": "execute_result"
    }
   ],
   "execution_count": 27
  },
  {
   "metadata": {
    "ExecuteTime": {
     "end_time": "2025-04-09T08:56:47.512698Z",
     "start_time": "2025-04-09T08:56:47.510633Z"
    }
   },
   "cell_type": "code",
   "source": "",
   "id": "f05a7de373360925",
   "outputs": [],
   "execution_count": 24
  },
  {
   "metadata": {
    "ExecuteTime": {
     "end_time": "2025-04-10T02:11:37.446330Z",
     "start_time": "2025-04-10T02:11:37.359121Z"
    }
   },
   "cell_type": "code",
   "source": [
    "from qlib.workflow import R\n",
    "\n",
    "with R.start(experiment_name=\"tutorial_exp\"):\n",
    "    data = df_temp\n",
    "    R.save_objects(test_data_df=df_temp)"
   ],
   "id": "ecd17e6c4c2a7865",
   "outputs": [
    {
     "name": "stderr",
     "output_type": "stream",
     "text": [
      "[57159:MainThread](2025-04-10 10:11:37,365) INFO - qlib.workflow - [exp.py:258] - Experiment 2 starts running ...\n",
      "[57159:MainThread](2025-04-10 10:11:37,372) INFO - qlib.workflow - [recorder.py:345] - Recorder 95c4bc41350e4dc5b7f13e4af61fcb6b starts running under Experiment 2 ...\n",
      "[57159:MainThread](2025-04-10 10:11:37,436) INFO - qlib.timer - [log.py:127] - Time cost: 0.002s | waiting `async_log` Done\n"
     ]
    },
    {
     "name": "stdout",
     "output_type": "stream",
     "text": [
      "🏃 View run mlflow_recorder at: http://127.0.0.1:5001/#/experiments/2/runs/95c4bc41350e4dc5b7f13e4af61fcb6b\n",
      "🧪 View experiment at: http://127.0.0.1:5001/#/experiments/2\n"
     ]
    }
   ],
   "execution_count": 32
  },
  {
   "metadata": {},
   "cell_type": "code",
   "outputs": [],
   "execution_count": null,
   "source": "",
   "id": "82e01935a7d4c9e1"
  },
  {
   "metadata": {},
   "cell_type": "code",
   "outputs": [],
   "execution_count": null,
   "source": "",
   "id": "98390326021229d1"
  },
  {
   "metadata": {},
   "cell_type": "code",
   "outputs": [],
   "execution_count": null,
   "source": "",
   "id": "bfab068fb09abf6a"
  },
  {
   "metadata": {},
   "cell_type": "code",
   "outputs": [],
   "execution_count": null,
   "source": "",
   "id": "1406e504e71c42c2"
  },
  {
   "metadata": {},
   "cell_type": "code",
   "outputs": [],
   "execution_count": null,
   "source": "",
   "id": "1c5e74e3ced1a548"
  },
  {
   "metadata": {},
   "cell_type": "code",
   "outputs": [],
   "execution_count": null,
   "source": "",
   "id": "7c8ccbeef0417e08"
  },
  {
   "metadata": {},
   "cell_type": "code",
   "outputs": [],
   "execution_count": null,
   "source": "",
   "id": "386994be11249fd"
  }
 ],
 "metadata": {
  "kernelspec": {
   "display_name": "Python 3",
   "language": "python",
   "name": "python3"
  },
  "language_info": {
   "codemirror_mode": {
    "name": "ipython",
    "version": 2
   },
   "file_extension": ".py",
   "mimetype": "text/x-python",
   "name": "python",
   "nbconvert_exporter": "python",
   "pygments_lexer": "ipython2",
   "version": "2.7.6"
  }
 },
 "nbformat": 4,
 "nbformat_minor": 5
}
